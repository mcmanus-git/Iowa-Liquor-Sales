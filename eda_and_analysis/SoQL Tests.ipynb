{
 "cells": [
  {
   "cell_type": "code",
   "execution_count": 1,
   "metadata": {
    "collapsed": true
   },
   "outputs": [],
   "source": [
    "from MyCreds.mycreds import IowaData\n",
    "import pandas as pd\n",
    "from sodapy import Socrata # < Unmaintained as of August 31, 2022, just in time for this project\n",
    "import numpy as np\n",
    "import h3\n",
    "import requests\n",
    "from geopy.geocoders import Nominatim\n",
    "\n",
    "KEY = IowaData.api_key\n",
    "SECRET = IowaData.api_key_secret\n",
    "TOKEN = IowaData.app_token\n",
    "\n",
    "liquor_sales_data_id = \"m3tr-qhgy\"\n",
    "LIMIT = 24000000"
   ]
  },
  {
   "cell_type": "code",
   "execution_count": 8,
   "outputs": [
    {
     "data": {
      "text/plain": "[{'count_distinct_date': '2706'}]"
     },
     "execution_count": 8,
     "metadata": {},
     "output_type": "execute_result"
    }
   ],
   "source": [
    "# url = f\"https://data.iowa.gov/resource/m3tr-qhgy.json?$$app_token={TOKEN}&$limit=20&$where=(vendor_name like '%10th Mountain%')\"\n",
    "url = f\"https://data.iowa.gov/resource/m3tr-qhgy.json?$$app_token={TOKEN}&$query=select count(distinct(date))\"\n",
    "r = requests.get(url=url).json()\n",
    "r"
   ],
   "metadata": {
    "collapsed": false
   }
  },
  {
   "cell_type": "code",
   "execution_count": 12,
   "outputs": [
    {
     "data": {
      "text/plain": "                              im_desc_1\n0                        100 Anos Anejo\n1              100 Anos Azul 100% Agave\n2                           10 Cane Rum\n3                 10th Mountain Bourbon\n4      135° East Hyogo Japanese Dry Gin\n...                                 ...\n10786              Zu Bison Grass Vodka\n10787        Zubrowka Bison Grass Vodka\n10788                             Zwack\n10789                      Zwack Unicum\n10790                         Zyr Vodka\n\n[10791 rows x 1 columns]",
      "text/html": "<div>\n<style scoped>\n    .dataframe tbody tr th:only-of-type {\n        vertical-align: middle;\n    }\n\n    .dataframe tbody tr th {\n        vertical-align: top;\n    }\n\n    .dataframe thead th {\n        text-align: right;\n    }\n</style>\n<table border=\"1\" class=\"dataframe\">\n  <thead>\n    <tr style=\"text-align: right;\">\n      <th></th>\n      <th>im_desc_1</th>\n    </tr>\n  </thead>\n  <tbody>\n    <tr>\n      <th>0</th>\n      <td>100 Anos Anejo</td>\n    </tr>\n    <tr>\n      <th>1</th>\n      <td>100 Anos Azul 100% Agave</td>\n    </tr>\n    <tr>\n      <th>2</th>\n      <td>10 Cane Rum</td>\n    </tr>\n    <tr>\n      <th>3</th>\n      <td>10th Mountain Bourbon</td>\n    </tr>\n    <tr>\n      <th>4</th>\n      <td>135° East Hyogo Japanese Dry Gin</td>\n    </tr>\n    <tr>\n      <th>...</th>\n      <td>...</td>\n    </tr>\n    <tr>\n      <th>10786</th>\n      <td>Zu Bison Grass Vodka</td>\n    </tr>\n    <tr>\n      <th>10787</th>\n      <td>Zubrowka Bison Grass Vodka</td>\n    </tr>\n    <tr>\n      <th>10788</th>\n      <td>Zwack</td>\n    </tr>\n    <tr>\n      <th>10789</th>\n      <td>Zwack Unicum</td>\n    </tr>\n    <tr>\n      <th>10790</th>\n      <td>Zyr Vodka</td>\n    </tr>\n  </tbody>\n</table>\n<p>10791 rows × 1 columns</p>\n</div>"
     },
     "execution_count": 12,
     "metadata": {},
     "output_type": "execute_result"
    }
   ],
   "source": [
    "\n",
    "query = \"select distinct(im_desc) limit 50000\"\n",
    "url = f\"https://data.iowa.gov/resource/m3tr-qhgy.json?$$app_token={TOKEN}&$query={query}\"\n",
    "r = requests.get(url=url).json()\n",
    "df = pd.DataFrame(r)\n",
    "df"
   ],
   "metadata": {
    "collapsed": false
   }
  },
  {
   "cell_type": "code",
   "execution_count": 23,
   "outputs": [
    {
     "data": {
      "text/plain": "   date_extract_y_date sum_sale_bottles sum_sale_dollars sum_sale_gallons\n0                 2012         19917404     255203313.57       4954851.80\n1                 2013         19934692     258103792.82       4907690.85\n2                 2014         20666259     270587738.09       5061262.51\n3                 2015         21572443     284328572.11       5182900.41\n4                 2016         22670318     299447564.85       5363088.93\n5                 2017         23990017     314530044.81       5573698.52\n6                 2018         25435040     334216843.07       5779170.81\n7                 2019         26844339     349220341.63       5878523.32\n8                 2020         29841264     396663131.66       6381500.11\n9                 2021         31203537     428123535.40       6524942.92\n10                2022         19595559     271808726.50       4013250.76",
      "text/html": "<div>\n<style scoped>\n    .dataframe tbody tr th:only-of-type {\n        vertical-align: middle;\n    }\n\n    .dataframe tbody tr th {\n        vertical-align: top;\n    }\n\n    .dataframe thead th {\n        text-align: right;\n    }\n</style>\n<table border=\"1\" class=\"dataframe\">\n  <thead>\n    <tr style=\"text-align: right;\">\n      <th></th>\n      <th>date_extract_y_date</th>\n      <th>sum_sale_bottles</th>\n      <th>sum_sale_dollars</th>\n      <th>sum_sale_gallons</th>\n    </tr>\n  </thead>\n  <tbody>\n    <tr>\n      <th>0</th>\n      <td>2012</td>\n      <td>19917404</td>\n      <td>255203313.57</td>\n      <td>4954851.80</td>\n    </tr>\n    <tr>\n      <th>1</th>\n      <td>2013</td>\n      <td>19934692</td>\n      <td>258103792.82</td>\n      <td>4907690.85</td>\n    </tr>\n    <tr>\n      <th>2</th>\n      <td>2014</td>\n      <td>20666259</td>\n      <td>270587738.09</td>\n      <td>5061262.51</td>\n    </tr>\n    <tr>\n      <th>3</th>\n      <td>2015</td>\n      <td>21572443</td>\n      <td>284328572.11</td>\n      <td>5182900.41</td>\n    </tr>\n    <tr>\n      <th>4</th>\n      <td>2016</td>\n      <td>22670318</td>\n      <td>299447564.85</td>\n      <td>5363088.93</td>\n    </tr>\n    <tr>\n      <th>5</th>\n      <td>2017</td>\n      <td>23990017</td>\n      <td>314530044.81</td>\n      <td>5573698.52</td>\n    </tr>\n    <tr>\n      <th>6</th>\n      <td>2018</td>\n      <td>25435040</td>\n      <td>334216843.07</td>\n      <td>5779170.81</td>\n    </tr>\n    <tr>\n      <th>7</th>\n      <td>2019</td>\n      <td>26844339</td>\n      <td>349220341.63</td>\n      <td>5878523.32</td>\n    </tr>\n    <tr>\n      <th>8</th>\n      <td>2020</td>\n      <td>29841264</td>\n      <td>396663131.66</td>\n      <td>6381500.11</td>\n    </tr>\n    <tr>\n      <th>9</th>\n      <td>2021</td>\n      <td>31203537</td>\n      <td>428123535.40</td>\n      <td>6524942.92</td>\n    </tr>\n    <tr>\n      <th>10</th>\n      <td>2022</td>\n      <td>19595559</td>\n      <td>271808726.50</td>\n      <td>4013250.76</td>\n    </tr>\n  </tbody>\n</table>\n</div>"
     },
     "execution_count": 23,
     "metadata": {},
     "output_type": "execute_result"
    }
   ],
   "source": [
    "query = f\"select date_extract_y(date), sum(sale_bottles), sum(sale_dollars), sum(sale_gallons) group by date_extract_y(date)\"\n",
    "url = f\"https://data.iowa.gov/resource/m3tr-qhgy.json?$$app_token={TOKEN}&$query={query}\"\n",
    "r = requests.get(url=url).json()\n",
    "df = pd.DataFrame(r)\n",
    "df"
   ],
   "metadata": {
    "collapsed": false
   }
  },
  {
   "cell_type": "code",
   "execution_count": 24,
   "outputs": [
    {
     "ename": "TypeError",
     "evalue": "no numeric data to plot",
     "output_type": "error",
     "traceback": [
      "\u001B[0;31m---------------------------------------------------------------------------\u001B[0m",
      "\u001B[0;31mTypeError\u001B[0m                                 Traceback (most recent call last)",
      "Input \u001B[0;32mIn [24]\u001B[0m, in \u001B[0;36m<cell line: 1>\u001B[0;34m()\u001B[0m\n\u001B[0;32m----> 1\u001B[0m \u001B[43mdf\u001B[49m\u001B[38;5;241;43m.\u001B[39;49m\u001B[43mplot\u001B[49m\u001B[43m(\u001B[49m\u001B[43m)\u001B[49m\n",
      "File \u001B[0;32m~/anaconda3/envs/iowa/lib/python3.10/site-packages/pandas/plotting/_core.py:972\u001B[0m, in \u001B[0;36mPlotAccessor.__call__\u001B[0;34m(self, *args, **kwargs)\u001B[0m\n\u001B[1;32m    969\u001B[0m             label_name \u001B[38;5;241m=\u001B[39m label_kw \u001B[38;5;129;01mor\u001B[39;00m data\u001B[38;5;241m.\u001B[39mcolumns\n\u001B[1;32m    970\u001B[0m             data\u001B[38;5;241m.\u001B[39mcolumns \u001B[38;5;241m=\u001B[39m label_name\n\u001B[0;32m--> 972\u001B[0m \u001B[38;5;28;01mreturn\u001B[39;00m \u001B[43mplot_backend\u001B[49m\u001B[38;5;241;43m.\u001B[39;49m\u001B[43mplot\u001B[49m\u001B[43m(\u001B[49m\u001B[43mdata\u001B[49m\u001B[43m,\u001B[49m\u001B[43m \u001B[49m\u001B[43mkind\u001B[49m\u001B[38;5;241;43m=\u001B[39;49m\u001B[43mkind\u001B[49m\u001B[43m,\u001B[49m\u001B[43m \u001B[49m\u001B[38;5;241;43m*\u001B[39;49m\u001B[38;5;241;43m*\u001B[39;49m\u001B[43mkwargs\u001B[49m\u001B[43m)\u001B[49m\n",
      "File \u001B[0;32m~/anaconda3/envs/iowa/lib/python3.10/site-packages/pandas/plotting/_matplotlib/__init__.py:71\u001B[0m, in \u001B[0;36mplot\u001B[0;34m(data, kind, **kwargs)\u001B[0m\n\u001B[1;32m     69\u001B[0m         kwargs[\u001B[38;5;124m\"\u001B[39m\u001B[38;5;124max\u001B[39m\u001B[38;5;124m\"\u001B[39m] \u001B[38;5;241m=\u001B[39m \u001B[38;5;28mgetattr\u001B[39m(ax, \u001B[38;5;124m\"\u001B[39m\u001B[38;5;124mleft_ax\u001B[39m\u001B[38;5;124m\"\u001B[39m, ax)\n\u001B[1;32m     70\u001B[0m plot_obj \u001B[38;5;241m=\u001B[39m PLOT_CLASSES[kind](data, \u001B[38;5;241m*\u001B[39m\u001B[38;5;241m*\u001B[39mkwargs)\n\u001B[0;32m---> 71\u001B[0m \u001B[43mplot_obj\u001B[49m\u001B[38;5;241;43m.\u001B[39;49m\u001B[43mgenerate\u001B[49m\u001B[43m(\u001B[49m\u001B[43m)\u001B[49m\n\u001B[1;32m     72\u001B[0m plot_obj\u001B[38;5;241m.\u001B[39mdraw()\n\u001B[1;32m     73\u001B[0m \u001B[38;5;28;01mreturn\u001B[39;00m plot_obj\u001B[38;5;241m.\u001B[39mresult\n",
      "File \u001B[0;32m~/anaconda3/envs/iowa/lib/python3.10/site-packages/pandas/plotting/_matplotlib/core.py:327\u001B[0m, in \u001B[0;36mMPLPlot.generate\u001B[0;34m(self)\u001B[0m\n\u001B[1;32m    325\u001B[0m \u001B[38;5;28;01mdef\u001B[39;00m \u001B[38;5;21mgenerate\u001B[39m(\u001B[38;5;28mself\u001B[39m):\n\u001B[1;32m    326\u001B[0m     \u001B[38;5;28mself\u001B[39m\u001B[38;5;241m.\u001B[39m_args_adjust()\n\u001B[0;32m--> 327\u001B[0m     \u001B[38;5;28;43mself\u001B[39;49m\u001B[38;5;241;43m.\u001B[39;49m\u001B[43m_compute_plot_data\u001B[49m\u001B[43m(\u001B[49m\u001B[43m)\u001B[49m\n\u001B[1;32m    328\u001B[0m     \u001B[38;5;28mself\u001B[39m\u001B[38;5;241m.\u001B[39m_setup_subplots()\n\u001B[1;32m    329\u001B[0m     \u001B[38;5;28mself\u001B[39m\u001B[38;5;241m.\u001B[39m_make_plot()\n",
      "File \u001B[0;32m~/anaconda3/envs/iowa/lib/python3.10/site-packages/pandas/plotting/_matplotlib/core.py:506\u001B[0m, in \u001B[0;36mMPLPlot._compute_plot_data\u001B[0;34m(self)\u001B[0m\n\u001B[1;32m    504\u001B[0m \u001B[38;5;66;03m# no non-numeric frames or series allowed\u001B[39;00m\n\u001B[1;32m    505\u001B[0m \u001B[38;5;28;01mif\u001B[39;00m is_empty:\n\u001B[0;32m--> 506\u001B[0m     \u001B[38;5;28;01mraise\u001B[39;00m \u001B[38;5;167;01mTypeError\u001B[39;00m(\u001B[38;5;124m\"\u001B[39m\u001B[38;5;124mno numeric data to plot\u001B[39m\u001B[38;5;124m\"\u001B[39m)\n\u001B[1;32m    508\u001B[0m \u001B[38;5;28mself\u001B[39m\u001B[38;5;241m.\u001B[39mdata \u001B[38;5;241m=\u001B[39m numeric_data\u001B[38;5;241m.\u001B[39mapply(\u001B[38;5;28mself\u001B[39m\u001B[38;5;241m.\u001B[39m_convert_to_ndarray)\n",
      "\u001B[0;31mTypeError\u001B[0m: no numeric data to plot"
     ]
    }
   ],
   "source": [
    "df.plot()"
   ],
   "metadata": {
    "collapsed": false
   }
  },
  {
   "cell_type": "code",
   "execution_count": 25,
   "outputs": [
    {
     "data": {
      "text/plain": "date_extract_y_date    object\nsum_sale_bottles       object\nsum_sale_dollars       object\nsum_sale_gallons       object\ndtype: object"
     },
     "execution_count": 25,
     "metadata": {},
     "output_type": "execute_result"
    }
   ],
   "source": [
    "df.dtypes"
   ],
   "metadata": {
    "collapsed": false
   }
  },
  {
   "cell_type": "markdown",
   "source": [
    "___\n",
    "\n",
    "___"
   ],
   "metadata": {
    "collapsed": false
   }
  },
  {
   "cell_type": "code",
   "execution_count": 21,
   "outputs": [],
   "source": [
    "from MyCreds.mycreds import IowaData\n",
    "import pandas as pd\n",
    "from sodapy import Socrata # < Unmaintained as of August 31, 2022, just in time for this project\n",
    "import numpy as np\n",
    "import h3\n",
    "import requests\n",
    "from geopy.geocoders import Nominatim\n",
    "import pymssql\n",
    "\n",
    "# Globals\n",
    "geolocator = Nominatim(user_agent=\"my_user_agent\")\n",
    "KEY = IowaData.api_key\n",
    "SECRET = IowaData.api_key_secret\n",
    "TOKEN = IowaData.app_token\n",
    "liquor_sales_data_id = \"m3tr-qhgy\"\n",
    "LIMIT = 24000000"
   ],
   "metadata": {
    "collapsed": false
   }
  },
  {
   "cell_type": "code",
   "execution_count": 2,
   "outputs": [],
   "source": [
    "def get_unique_with_least_nulls(df):\n",
    "    df['n_null'] = df.isnull().sum(axis=1)\n",
    "    df = df.sort_values(['store_id', 'n_null'], ascending=False).groupby('store_id').last().reset_index()\n",
    "    df.drop('n_null', axis=1, inplace=True)\n",
    "    return df"
   ],
   "metadata": {
    "collapsed": false
   }
  },
  {
   "cell_type": "code",
   "execution_count": 3,
   "outputs": [],
   "source": [
    "def get_nominatim_lat_long(x):\n",
    "\n",
    "    try:\n",
    "        address = (x['address'] + ' ' + x['city'] + ', IA ' + x['zipcode']).replace('  ', ' ').strip()\n",
    "        g = geolocator.geocode(address)\n",
    "        if g:\n",
    "            long, lat = g.longitude, g.latitude\n",
    "        else:\n",
    "            long, lat = np.nan, np.nan\n",
    "    except:\n",
    "        long, lat = np.nan, np.nan\n",
    "        next\n",
    "\n",
    "\n",
    "    return long, lat"
   ],
   "metadata": {
    "collapsed": false
   }
  },
  {
   "cell_type": "code",
   "execution_count": 4,
   "outputs": [],
   "source": [
    "def fill_missing_locs(df):\n",
    "    missing = df[(~df['address'].isnull()) & (df['long'].isnull())]\n",
    "    ll = missing.apply(lambda x: get_nominatim_lat_long(x), axis=1, result_type='expand')\n",
    "    missing = missing.merge(ll, left_index=True, right_index=True).drop(['long', 'lat'], axis=1).rename({0: 'long', 1: 'lat'}, axis=1)\n",
    "\n",
    "    df = df.merge(missing[['store_id', 'long', 'lat']], on='store_id', how='left')\n",
    "\n",
    "    df['long_x'].fillna(df['long_y'], inplace=True)\n",
    "    df['lat_x'].fillna(df['lat_y'], inplace=True)\n",
    "    df.rename({'long_x': 'long', 'lat_x': 'lat'}, axis=1, inplace=True)\n",
    "    df.drop(['long_y', 'lat_y'], axis=1, inplace=True)\n",
    "\n",
    "    return df"
   ],
   "metadata": {
    "collapsed": false
   }
  },
  {
   "cell_type": "code",
   "execution_count": 5,
   "outputs": [],
   "source": [
    "def clean_locations(df, h3_resolution=8):\n",
    "    coords_df = pd.DataFrame(df['geometry'].to_dict()).T\n",
    "    coords_df['coordinates'] = np.where(coords_df['coordinates'].isnull(), pd.Series([[]]*len(coords_df)), coords_df['coordinates']) # fill na with empty list\n",
    "    df = df.merge(pd.DataFrame(coords_df['coordinates'].to_list(), columns=['long', 'lat']), left_index=True, right_index=True)\n",
    "\n",
    "    df['store_name'] = df['store_name'].str.replace('\"', '').str.title().str.replace(\"'S\", \"'s\")\n",
    "    df['city'] = df['city'].str.title()\n",
    "    df['address'] = df['address'].str.title()\n",
    "    df['store_name'].replace(\"( #\\d+ / .+| / .+| #\\d+)\", \"\", regex=True, inplace=True)\n",
    "    df['zipcode'].replace(\"-\", \"\", regex=True, inplace=True)\n",
    "\n",
    "    print('Removing Duplicates...')\n",
    "    df = get_unique_with_least_nulls(df)\n",
    "\n",
    "    print('Filling missing lat/long...')\n",
    "    df = fill_missing_locs(df)\n",
    "\n",
    "    def lat_long_to_h3(row):\n",
    "        return h3.geo_to_h3(lat=row.lat,lng=row.long,resolution = h3_resolution)\n",
    "\n",
    "    df['hex_id'] = df.apply(lat_long_to_h3, axis=1)\n",
    "    df.drop('geometry', axis=1, inplace=True)\n",
    "\n",
    "    return df"
   ],
   "metadata": {
    "collapsed": false
   }
  },
  {
   "cell_type": "code",
   "execution_count": 17,
   "outputs": [],
   "source": [
    "def get_store_info():\n",
    "\n",
    "    query = f\"select distinct(store) as store_id, name as store_name, address, city, zipcode, county_number as county_id, store_location as geometry limit {LIMIT}\"\n",
    "    url = f\"https://data.iowa.gov/resource/m3tr-qhgy.json?$$app_token={TOKEN}&$query={query}\"\n",
    "    print('Getting Request Response...')\n",
    "    r = requests.get(url=url).json()\n",
    "    df = pd.DataFrame(r)\n",
    "    print('Cleaning Dataframe...')\n",
    "    df = clean_locations(df)\n",
    "\n",
    "    return df"
   ],
   "metadata": {
    "collapsed": false
   }
  },
  {
   "cell_type": "code",
   "execution_count": 18,
   "outputs": [
    {
     "name": "stdout",
     "output_type": "stream",
     "text": [
      "Getting Request Response...\n",
      "Cleaning Dataframe...\n",
      "Removing Duplicates...\n",
      "Filling missing lat/long...\n"
     ]
    },
    {
     "data": {
      "text/plain": "     store_id                       store_name                  address  \\\n0      010004                Jack & Jill Store     115 East Main Street   \n1      010016                        Kwik Star              511 1St Ave   \n2      010017                        Kwik Star             1303 Main St   \n3      010018                        Kwik Star     1002 South County Rd   \n4      010019                     Oelwein Mart  801 East Charles Street   \n...       ...                              ...                      ...   \n2791     9934         Cats Eye Distillery, Llc    4860 Heatherstone Rd.   \n2792     9936                  Dash Events Llc   1685 W Uintah St. #101   \n2793     9937       Green Frog Distillery, Llc          3345 270Th Ave.   \n2794     9938         Templeton Distilling Llc             209 E 3Rd St   \n2795     9946  Rock River Distillation Company            3294 170Th St   \n\n                  city zipcode county_id        long        lat  \\\n0          West Branch   52358      None  -91.343394  41.671391   \n1                Perry   50220      None  -94.106564  41.832534   \n2           Emmetsburg   50536      None  -94.668298  43.111971   \n3               Toledo   52342      None  -92.581683  41.986706   \n4              Oelwein   50662      None  -91.902413  42.678786   \n...                ...     ...       ...         ...        ...   \n2791        Bettendorf   52722        82  -90.455001  41.571059   \n2792  Colorado Springs   80904      None -104.845334  38.848017   \n2793            Keokuk   52632        56  -91.399797  40.473242   \n2794         Templeton   51463        14  -94.936366  41.917072   \n2795       Rock Rapids   51246        60  -96.138605  43.404281   \n\n               hex_id  \n0     8826740da9fffff  \n1     88262b6d15fffff  \n2     88262a1713fffff  \n3     882676d6dbfffff  \n4     882629b80bfffff  \n...               ...  \n2791  882675dadbfffff  \n2792  88268c6f49fffff  \n2793  8826702ac1fffff  \n2794  88260c040bfffff  \n2795  8826057587fffff  \n\n[2796 rows x 9 columns]",
      "text/html": "<div>\n<style scoped>\n    .dataframe tbody tr th:only-of-type {\n        vertical-align: middle;\n    }\n\n    .dataframe tbody tr th {\n        vertical-align: top;\n    }\n\n    .dataframe thead th {\n        text-align: right;\n    }\n</style>\n<table border=\"1\" class=\"dataframe\">\n  <thead>\n    <tr style=\"text-align: right;\">\n      <th></th>\n      <th>store_id</th>\n      <th>store_name</th>\n      <th>address</th>\n      <th>city</th>\n      <th>zipcode</th>\n      <th>county_id</th>\n      <th>long</th>\n      <th>lat</th>\n      <th>hex_id</th>\n    </tr>\n  </thead>\n  <tbody>\n    <tr>\n      <th>0</th>\n      <td>010004</td>\n      <td>Jack &amp; Jill Store</td>\n      <td>115 East Main Street</td>\n      <td>West Branch</td>\n      <td>52358</td>\n      <td>None</td>\n      <td>-91.343394</td>\n      <td>41.671391</td>\n      <td>8826740da9fffff</td>\n    </tr>\n    <tr>\n      <th>1</th>\n      <td>010016</td>\n      <td>Kwik Star</td>\n      <td>511 1St Ave</td>\n      <td>Perry</td>\n      <td>50220</td>\n      <td>None</td>\n      <td>-94.106564</td>\n      <td>41.832534</td>\n      <td>88262b6d15fffff</td>\n    </tr>\n    <tr>\n      <th>2</th>\n      <td>010017</td>\n      <td>Kwik Star</td>\n      <td>1303 Main St</td>\n      <td>Emmetsburg</td>\n      <td>50536</td>\n      <td>None</td>\n      <td>-94.668298</td>\n      <td>43.111971</td>\n      <td>88262a1713fffff</td>\n    </tr>\n    <tr>\n      <th>3</th>\n      <td>010018</td>\n      <td>Kwik Star</td>\n      <td>1002 South County Rd</td>\n      <td>Toledo</td>\n      <td>52342</td>\n      <td>None</td>\n      <td>-92.581683</td>\n      <td>41.986706</td>\n      <td>882676d6dbfffff</td>\n    </tr>\n    <tr>\n      <th>4</th>\n      <td>010019</td>\n      <td>Oelwein Mart</td>\n      <td>801 East Charles Street</td>\n      <td>Oelwein</td>\n      <td>50662</td>\n      <td>None</td>\n      <td>-91.902413</td>\n      <td>42.678786</td>\n      <td>882629b80bfffff</td>\n    </tr>\n    <tr>\n      <th>...</th>\n      <td>...</td>\n      <td>...</td>\n      <td>...</td>\n      <td>...</td>\n      <td>...</td>\n      <td>...</td>\n      <td>...</td>\n      <td>...</td>\n      <td>...</td>\n    </tr>\n    <tr>\n      <th>2791</th>\n      <td>9934</td>\n      <td>Cats Eye Distillery, Llc</td>\n      <td>4860 Heatherstone Rd.</td>\n      <td>Bettendorf</td>\n      <td>52722</td>\n      <td>82</td>\n      <td>-90.455001</td>\n      <td>41.571059</td>\n      <td>882675dadbfffff</td>\n    </tr>\n    <tr>\n      <th>2792</th>\n      <td>9936</td>\n      <td>Dash Events Llc</td>\n      <td>1685 W Uintah St. #101</td>\n      <td>Colorado Springs</td>\n      <td>80904</td>\n      <td>None</td>\n      <td>-104.845334</td>\n      <td>38.848017</td>\n      <td>88268c6f49fffff</td>\n    </tr>\n    <tr>\n      <th>2793</th>\n      <td>9937</td>\n      <td>Green Frog Distillery, Llc</td>\n      <td>3345 270Th Ave.</td>\n      <td>Keokuk</td>\n      <td>52632</td>\n      <td>56</td>\n      <td>-91.399797</td>\n      <td>40.473242</td>\n      <td>8826702ac1fffff</td>\n    </tr>\n    <tr>\n      <th>2794</th>\n      <td>9938</td>\n      <td>Templeton Distilling Llc</td>\n      <td>209 E 3Rd St</td>\n      <td>Templeton</td>\n      <td>51463</td>\n      <td>14</td>\n      <td>-94.936366</td>\n      <td>41.917072</td>\n      <td>88260c040bfffff</td>\n    </tr>\n    <tr>\n      <th>2795</th>\n      <td>9946</td>\n      <td>Rock River Distillation Company</td>\n      <td>3294 170Th St</td>\n      <td>Rock Rapids</td>\n      <td>51246</td>\n      <td>60</td>\n      <td>-96.138605</td>\n      <td>43.404281</td>\n      <td>8826057587fffff</td>\n    </tr>\n  </tbody>\n</table>\n<p>2796 rows × 9 columns</p>\n</div>"
     },
     "execution_count": 18,
     "metadata": {},
     "output_type": "execute_result"
    }
   ],
   "source": [
    "store_map = get_store_info()\n",
    "store_map"
   ],
   "metadata": {
    "collapsed": false
   }
  },
  {
   "cell_type": "code",
   "execution_count": 19,
   "outputs": [
    {
     "data": {
      "text/plain": "Index(['store_id', 'store_name', 'address', 'city', 'zipcode', 'county_id',\n       'long', 'lat', 'hex_id'],\n      dtype='object')"
     },
     "execution_count": 19,
     "metadata": {},
     "output_type": "execute_result"
    }
   ],
   "source": [
    "store_map.columns"
   ],
   "metadata": {
    "collapsed": false
   }
  },
  {
   "cell_type": "code",
   "execution_count": 20,
   "outputs": [
    {
     "data": {
      "text/plain": "77    362\n57    191\n82    121\n52    104\n07     89\n     ... \n05      3\n5       2\n1       2\n02      1\n2       1\nName: county_id, Length: 108, dtype: int64"
     },
     "execution_count": 20,
     "metadata": {},
     "output_type": "execute_result"
    }
   ],
   "source": [
    "store_map['county_id'].value_counts()"
   ],
   "metadata": {
    "collapsed": false
   }
  },
  {
   "cell_type": "code",
   "execution_count": 22,
   "outputs": [],
   "source": [
    "def chunks(lst, n):\n",
    "    for i in range(0, len(lst), n):\n",
    "        yield lst[i:i + n]\n",
    "\n",
    "def load(df):\n",
    "    server = IowaData.azure_server\n",
    "    user = IowaData.azure_uid\n",
    "    password = IowaData.azure_pwd\n",
    "\n",
    "    write_data = list(map(tuple, df.fillna(0).values))\n",
    "    insert_query = f\"\"\"INSERT INTO invoices.store({', '.join([*df.columns])}) VALUES ({', '.join(['%s' for col in df.columns])})\"\"\"\n",
    "    insert_q, values_q = insert_query.split('VALUES') # get part with the query and the parameters\n",
    "    insert_q += 'VALUES' # add values to make sql query correct after split\n",
    "\n",
    "    with pymssql.connect(server, user, password, \"iowa_liquor\") as cnxn:\n",
    "        with cnxn.cursor() as cur:\n",
    "            for chunk_data in chunks(write_data, 1000):\n",
    "                # chunk_data contains list of row parameters\n",
    "                # we make it flat to use execute later instead execute_many\n",
    "                flat_list = [item for sublist in chunk_data for item in sublist]\n",
    "                # creating the query with multiple values insert\n",
    "                chunk_query = insert_q + ','.join([values_q] * len(chunk_data))\n",
    "                cur.execute(chunk_query, tuple(flat_list))\n",
    "                cnxn.commit()\n"
   ],
   "metadata": {
    "collapsed": false
   }
  },
  {
   "cell_type": "code",
   "execution_count": 24,
   "outputs": [],
   "source": [
    "store_map['zipcode'].replace(\"-\", \"\", regex=True, inplace=True)"
   ],
   "metadata": {
    "collapsed": false
   }
  },
  {
   "cell_type": "code",
   "execution_count": 26,
   "outputs": [
    {
     "data": {
      "text/plain": "    store_id                  store_name       address    city zipcode  \\\n766     4307  Crossroads Wine And Liquor  117 Iowa Ave  Dunlap    7122   \n\n    county_id       long        lat           hex_id  \n766        43 -95.602969  41.854728  88260c4ebbfffff  ",
      "text/html": "<div>\n<style scoped>\n    .dataframe tbody tr th:only-of-type {\n        vertical-align: middle;\n    }\n\n    .dataframe tbody tr th {\n        vertical-align: top;\n    }\n\n    .dataframe thead th {\n        text-align: right;\n    }\n</style>\n<table border=\"1\" class=\"dataframe\">\n  <thead>\n    <tr style=\"text-align: right;\">\n      <th></th>\n      <th>store_id</th>\n      <th>store_name</th>\n      <th>address</th>\n      <th>city</th>\n      <th>zipcode</th>\n      <th>county_id</th>\n      <th>long</th>\n      <th>lat</th>\n      <th>hex_id</th>\n    </tr>\n  </thead>\n  <tbody>\n    <tr>\n      <th>766</th>\n      <td>4307</td>\n      <td>Crossroads Wine And Liquor</td>\n      <td>117 Iowa Ave</td>\n      <td>Dunlap</td>\n      <td>7122</td>\n      <td>43</td>\n      <td>-95.602969</td>\n      <td>41.854728</td>\n      <td>88260c4ebbfffff</td>\n    </tr>\n  </tbody>\n</table>\n</div>"
     },
     "execution_count": 26,
     "metadata": {},
     "output_type": "execute_result"
    }
   ],
   "source": [
    "store_map[store_map['zipcode'] == '7122']"
   ],
   "metadata": {
    "collapsed": false
   }
  },
  {
   "cell_type": "code",
   "execution_count": null,
   "outputs": [],
   "source": [],
   "metadata": {
    "collapsed": false
   }
  }
 ],
 "metadata": {
  "kernelspec": {
   "display_name": "Python 3",
   "language": "python",
   "name": "python3"
  },
  "language_info": {
   "codemirror_mode": {
    "name": "ipython",
    "version": 2
   },
   "file_extension": ".py",
   "mimetype": "text/x-python",
   "name": "python",
   "nbconvert_exporter": "python",
   "pygments_lexer": "ipython2",
   "version": "2.7.6"
  }
 },
 "nbformat": 4,
 "nbformat_minor": 0
}
