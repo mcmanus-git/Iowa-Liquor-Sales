{
 "cells": [
  {
   "cell_type": "code",
   "execution_count": 13,
   "metadata": {
    "collapsed": true
   },
   "outputs": [],
   "source": [
    "from MyCreds.mycreds import IowaData\n",
    "import pandas as pd\n",
    "from sodapy import Socrata # < Unmaintained as of August 31, 2022, just in time for this project\n",
    "import numpy as np\n",
    "import h3\n",
    "import requests\n",
    "\n",
    "KEY = IowaData.api_key\n",
    "SECRET = IowaData.api_key_secret\n",
    "TOKEN = IowaData.app_token\n",
    "\n",
    "liquor_sales_data_id = \"m3tr-qhgy\"\n",
    "LIMIT = 24000000"
   ]
  },
  {
   "cell_type": "code",
   "execution_count": 8,
   "outputs": [
    {
     "data": {
      "text/plain": "[{'count_distinct_date': '2706'}]"
     },
     "execution_count": 8,
     "metadata": {},
     "output_type": "execute_result"
    }
   ],
   "source": [
    "# url = f\"https://data.iowa.gov/resource/m3tr-qhgy.json?$$app_token={TOKEN}&$limit=20&$where=(vendor_name like '%10th Mountain%')\"\n",
    "url = f\"https://data.iowa.gov/resource/m3tr-qhgy.json?$$app_token={TOKEN}&$query=select count(distinct(date))\"\n",
    "r = requests.get(url=url).json()\n",
    "r"
   ],
   "metadata": {
    "collapsed": false
   }
  },
  {
   "cell_type": "code",
   "execution_count": 12,
   "outputs": [
    {
     "data": {
      "text/plain": "                              im_desc_1\n0                        100 Anos Anejo\n1              100 Anos Azul 100% Agave\n2                           10 Cane Rum\n3                 10th Mountain Bourbon\n4      135° East Hyogo Japanese Dry Gin\n...                                 ...\n10786              Zu Bison Grass Vodka\n10787        Zubrowka Bison Grass Vodka\n10788                             Zwack\n10789                      Zwack Unicum\n10790                         Zyr Vodka\n\n[10791 rows x 1 columns]",
      "text/html": "<div>\n<style scoped>\n    .dataframe tbody tr th:only-of-type {\n        vertical-align: middle;\n    }\n\n    .dataframe tbody tr th {\n        vertical-align: top;\n    }\n\n    .dataframe thead th {\n        text-align: right;\n    }\n</style>\n<table border=\"1\" class=\"dataframe\">\n  <thead>\n    <tr style=\"text-align: right;\">\n      <th></th>\n      <th>im_desc_1</th>\n    </tr>\n  </thead>\n  <tbody>\n    <tr>\n      <th>0</th>\n      <td>100 Anos Anejo</td>\n    </tr>\n    <tr>\n      <th>1</th>\n      <td>100 Anos Azul 100% Agave</td>\n    </tr>\n    <tr>\n      <th>2</th>\n      <td>10 Cane Rum</td>\n    </tr>\n    <tr>\n      <th>3</th>\n      <td>10th Mountain Bourbon</td>\n    </tr>\n    <tr>\n      <th>4</th>\n      <td>135° East Hyogo Japanese Dry Gin</td>\n    </tr>\n    <tr>\n      <th>...</th>\n      <td>...</td>\n    </tr>\n    <tr>\n      <th>10786</th>\n      <td>Zu Bison Grass Vodka</td>\n    </tr>\n    <tr>\n      <th>10787</th>\n      <td>Zubrowka Bison Grass Vodka</td>\n    </tr>\n    <tr>\n      <th>10788</th>\n      <td>Zwack</td>\n    </tr>\n    <tr>\n      <th>10789</th>\n      <td>Zwack Unicum</td>\n    </tr>\n    <tr>\n      <th>10790</th>\n      <td>Zyr Vodka</td>\n    </tr>\n  </tbody>\n</table>\n<p>10791 rows × 1 columns</p>\n</div>"
     },
     "execution_count": 12,
     "metadata": {},
     "output_type": "execute_result"
    }
   ],
   "source": [
    "\n",
    "query = \"select distinct(im_desc) limit 50000\"\n",
    "url = f\"https://data.iowa.gov/resource/m3tr-qhgy.json?$$app_token={TOKEN}&$query={query}\"\n",
    "r = requests.get(url=url).json()\n",
    "df = pd.DataFrame(r)\n",
    "df"
   ],
   "metadata": {
    "collapsed": false
   }
  },
  {
   "cell_type": "code",
   "execution_count": 23,
   "outputs": [
    {
     "data": {
      "text/plain": "   date_extract_y_date sum_sale_bottles sum_sale_dollars sum_sale_gallons\n0                 2012         19917404     255203313.57       4954851.80\n1                 2013         19934692     258103792.82       4907690.85\n2                 2014         20666259     270587738.09       5061262.51\n3                 2015         21572443     284328572.11       5182900.41\n4                 2016         22670318     299447564.85       5363088.93\n5                 2017         23990017     314530044.81       5573698.52\n6                 2018         25435040     334216843.07       5779170.81\n7                 2019         26844339     349220341.63       5878523.32\n8                 2020         29841264     396663131.66       6381500.11\n9                 2021         31203537     428123535.40       6524942.92\n10                2022         19595559     271808726.50       4013250.76",
      "text/html": "<div>\n<style scoped>\n    .dataframe tbody tr th:only-of-type {\n        vertical-align: middle;\n    }\n\n    .dataframe tbody tr th {\n        vertical-align: top;\n    }\n\n    .dataframe thead th {\n        text-align: right;\n    }\n</style>\n<table border=\"1\" class=\"dataframe\">\n  <thead>\n    <tr style=\"text-align: right;\">\n      <th></th>\n      <th>date_extract_y_date</th>\n      <th>sum_sale_bottles</th>\n      <th>sum_sale_dollars</th>\n      <th>sum_sale_gallons</th>\n    </tr>\n  </thead>\n  <tbody>\n    <tr>\n      <th>0</th>\n      <td>2012</td>\n      <td>19917404</td>\n      <td>255203313.57</td>\n      <td>4954851.80</td>\n    </tr>\n    <tr>\n      <th>1</th>\n      <td>2013</td>\n      <td>19934692</td>\n      <td>258103792.82</td>\n      <td>4907690.85</td>\n    </tr>\n    <tr>\n      <th>2</th>\n      <td>2014</td>\n      <td>20666259</td>\n      <td>270587738.09</td>\n      <td>5061262.51</td>\n    </tr>\n    <tr>\n      <th>3</th>\n      <td>2015</td>\n      <td>21572443</td>\n      <td>284328572.11</td>\n      <td>5182900.41</td>\n    </tr>\n    <tr>\n      <th>4</th>\n      <td>2016</td>\n      <td>22670318</td>\n      <td>299447564.85</td>\n      <td>5363088.93</td>\n    </tr>\n    <tr>\n      <th>5</th>\n      <td>2017</td>\n      <td>23990017</td>\n      <td>314530044.81</td>\n      <td>5573698.52</td>\n    </tr>\n    <tr>\n      <th>6</th>\n      <td>2018</td>\n      <td>25435040</td>\n      <td>334216843.07</td>\n      <td>5779170.81</td>\n    </tr>\n    <tr>\n      <th>7</th>\n      <td>2019</td>\n      <td>26844339</td>\n      <td>349220341.63</td>\n      <td>5878523.32</td>\n    </tr>\n    <tr>\n      <th>8</th>\n      <td>2020</td>\n      <td>29841264</td>\n      <td>396663131.66</td>\n      <td>6381500.11</td>\n    </tr>\n    <tr>\n      <th>9</th>\n      <td>2021</td>\n      <td>31203537</td>\n      <td>428123535.40</td>\n      <td>6524942.92</td>\n    </tr>\n    <tr>\n      <th>10</th>\n      <td>2022</td>\n      <td>19595559</td>\n      <td>271808726.50</td>\n      <td>4013250.76</td>\n    </tr>\n  </tbody>\n</table>\n</div>"
     },
     "execution_count": 23,
     "metadata": {},
     "output_type": "execute_result"
    }
   ],
   "source": [
    "query = f\"select date_extract_y(date), sum(sale_bottles), sum(sale_dollars), sum(sale_gallons) group by date_extract_y(date)\"\n",
    "url = f\"https://data.iowa.gov/resource/m3tr-qhgy.json?$$app_token={TOKEN}&$query={query}\"\n",
    "r = requests.get(url=url).json()\n",
    "df = pd.DataFrame(r)\n",
    "df"
   ],
   "metadata": {
    "collapsed": false
   }
  },
  {
   "cell_type": "code",
   "execution_count": 24,
   "outputs": [
    {
     "ename": "TypeError",
     "evalue": "no numeric data to plot",
     "output_type": "error",
     "traceback": [
      "\u001B[0;31m---------------------------------------------------------------------------\u001B[0m",
      "\u001B[0;31mTypeError\u001B[0m                                 Traceback (most recent call last)",
      "Input \u001B[0;32mIn [24]\u001B[0m, in \u001B[0;36m<cell line: 1>\u001B[0;34m()\u001B[0m\n\u001B[0;32m----> 1\u001B[0m \u001B[43mdf\u001B[49m\u001B[38;5;241;43m.\u001B[39;49m\u001B[43mplot\u001B[49m\u001B[43m(\u001B[49m\u001B[43m)\u001B[49m\n",
      "File \u001B[0;32m~/anaconda3/envs/iowa/lib/python3.10/site-packages/pandas/plotting/_core.py:972\u001B[0m, in \u001B[0;36mPlotAccessor.__call__\u001B[0;34m(self, *args, **kwargs)\u001B[0m\n\u001B[1;32m    969\u001B[0m             label_name \u001B[38;5;241m=\u001B[39m label_kw \u001B[38;5;129;01mor\u001B[39;00m data\u001B[38;5;241m.\u001B[39mcolumns\n\u001B[1;32m    970\u001B[0m             data\u001B[38;5;241m.\u001B[39mcolumns \u001B[38;5;241m=\u001B[39m label_name\n\u001B[0;32m--> 972\u001B[0m \u001B[38;5;28;01mreturn\u001B[39;00m \u001B[43mplot_backend\u001B[49m\u001B[38;5;241;43m.\u001B[39;49m\u001B[43mplot\u001B[49m\u001B[43m(\u001B[49m\u001B[43mdata\u001B[49m\u001B[43m,\u001B[49m\u001B[43m \u001B[49m\u001B[43mkind\u001B[49m\u001B[38;5;241;43m=\u001B[39;49m\u001B[43mkind\u001B[49m\u001B[43m,\u001B[49m\u001B[43m \u001B[49m\u001B[38;5;241;43m*\u001B[39;49m\u001B[38;5;241;43m*\u001B[39;49m\u001B[43mkwargs\u001B[49m\u001B[43m)\u001B[49m\n",
      "File \u001B[0;32m~/anaconda3/envs/iowa/lib/python3.10/site-packages/pandas/plotting/_matplotlib/__init__.py:71\u001B[0m, in \u001B[0;36mplot\u001B[0;34m(data, kind, **kwargs)\u001B[0m\n\u001B[1;32m     69\u001B[0m         kwargs[\u001B[38;5;124m\"\u001B[39m\u001B[38;5;124max\u001B[39m\u001B[38;5;124m\"\u001B[39m] \u001B[38;5;241m=\u001B[39m \u001B[38;5;28mgetattr\u001B[39m(ax, \u001B[38;5;124m\"\u001B[39m\u001B[38;5;124mleft_ax\u001B[39m\u001B[38;5;124m\"\u001B[39m, ax)\n\u001B[1;32m     70\u001B[0m plot_obj \u001B[38;5;241m=\u001B[39m PLOT_CLASSES[kind](data, \u001B[38;5;241m*\u001B[39m\u001B[38;5;241m*\u001B[39mkwargs)\n\u001B[0;32m---> 71\u001B[0m \u001B[43mplot_obj\u001B[49m\u001B[38;5;241;43m.\u001B[39;49m\u001B[43mgenerate\u001B[49m\u001B[43m(\u001B[49m\u001B[43m)\u001B[49m\n\u001B[1;32m     72\u001B[0m plot_obj\u001B[38;5;241m.\u001B[39mdraw()\n\u001B[1;32m     73\u001B[0m \u001B[38;5;28;01mreturn\u001B[39;00m plot_obj\u001B[38;5;241m.\u001B[39mresult\n",
      "File \u001B[0;32m~/anaconda3/envs/iowa/lib/python3.10/site-packages/pandas/plotting/_matplotlib/core.py:327\u001B[0m, in \u001B[0;36mMPLPlot.generate\u001B[0;34m(self)\u001B[0m\n\u001B[1;32m    325\u001B[0m \u001B[38;5;28;01mdef\u001B[39;00m \u001B[38;5;21mgenerate\u001B[39m(\u001B[38;5;28mself\u001B[39m):\n\u001B[1;32m    326\u001B[0m     \u001B[38;5;28mself\u001B[39m\u001B[38;5;241m.\u001B[39m_args_adjust()\n\u001B[0;32m--> 327\u001B[0m     \u001B[38;5;28;43mself\u001B[39;49m\u001B[38;5;241;43m.\u001B[39;49m\u001B[43m_compute_plot_data\u001B[49m\u001B[43m(\u001B[49m\u001B[43m)\u001B[49m\n\u001B[1;32m    328\u001B[0m     \u001B[38;5;28mself\u001B[39m\u001B[38;5;241m.\u001B[39m_setup_subplots()\n\u001B[1;32m    329\u001B[0m     \u001B[38;5;28mself\u001B[39m\u001B[38;5;241m.\u001B[39m_make_plot()\n",
      "File \u001B[0;32m~/anaconda3/envs/iowa/lib/python3.10/site-packages/pandas/plotting/_matplotlib/core.py:506\u001B[0m, in \u001B[0;36mMPLPlot._compute_plot_data\u001B[0;34m(self)\u001B[0m\n\u001B[1;32m    504\u001B[0m \u001B[38;5;66;03m# no non-numeric frames or series allowed\u001B[39;00m\n\u001B[1;32m    505\u001B[0m \u001B[38;5;28;01mif\u001B[39;00m is_empty:\n\u001B[0;32m--> 506\u001B[0m     \u001B[38;5;28;01mraise\u001B[39;00m \u001B[38;5;167;01mTypeError\u001B[39;00m(\u001B[38;5;124m\"\u001B[39m\u001B[38;5;124mno numeric data to plot\u001B[39m\u001B[38;5;124m\"\u001B[39m)\n\u001B[1;32m    508\u001B[0m \u001B[38;5;28mself\u001B[39m\u001B[38;5;241m.\u001B[39mdata \u001B[38;5;241m=\u001B[39m numeric_data\u001B[38;5;241m.\u001B[39mapply(\u001B[38;5;28mself\u001B[39m\u001B[38;5;241m.\u001B[39m_convert_to_ndarray)\n",
      "\u001B[0;31mTypeError\u001B[0m: no numeric data to plot"
     ]
    }
   ],
   "source": [
    "df.plot()"
   ],
   "metadata": {
    "collapsed": false
   }
  },
  {
   "cell_type": "code",
   "execution_count": 25,
   "outputs": [
    {
     "data": {
      "text/plain": "date_extract_y_date    object\nsum_sale_bottles       object\nsum_sale_dollars       object\nsum_sale_gallons       object\ndtype: object"
     },
     "execution_count": 25,
     "metadata": {},
     "output_type": "execute_result"
    }
   ],
   "source": [
    "df.dtypes"
   ],
   "metadata": {
    "collapsed": false
   }
  },
  {
   "cell_type": "code",
   "execution_count": null,
   "outputs": [],
   "source": [],
   "metadata": {
    "collapsed": false
   }
  }
 ],
 "metadata": {
  "kernelspec": {
   "display_name": "Python 3",
   "language": "python",
   "name": "python3"
  },
  "language_info": {
   "codemirror_mode": {
    "name": "ipython",
    "version": 2
   },
   "file_extension": ".py",
   "mimetype": "text/x-python",
   "name": "python",
   "nbconvert_exporter": "python",
   "pygments_lexer": "ipython2",
   "version": "2.7.6"
  }
 },
 "nbformat": 4,
 "nbformat_minor": 0
}
